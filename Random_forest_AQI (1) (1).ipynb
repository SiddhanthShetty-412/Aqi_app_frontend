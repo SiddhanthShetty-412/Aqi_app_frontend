{
  "cells": [
    {
      "cell_type": "code",
      "execution_count": 1,
      "metadata": {
        "id": "GTnKE1WHuLxF"
      },
      "outputs": [],
      "source": [
        "import pandas as pd\n",
        "import numpy as np"
      ]
    },
    {
      "cell_type": "markdown",
      "metadata": {
        "id": "JcKWgyFzubtw"
      },
      "source": [
        "# ***Reading the data files***"
      ]
    },
    {
      "cell_type": "code",
      "execution_count": 2,
      "metadata": {
        "colab": {
          "base_uri": "https://localhost:8080/",
          "height": 320
        },
        "id": "eiq2GNScubbZ",
        "outputId": "6a673e45-0001-43d6-fad0-2f5826d91e7b"
      },
      "outputs": [
        {
          "data": {
            "text/html": [
              "<div>\n",
              "<style scoped>\n",
              "    .dataframe tbody tr th:only-of-type {\n",
              "        vertical-align: middle;\n",
              "    }\n",
              "\n",
              "    .dataframe tbody tr th {\n",
              "        vertical-align: top;\n",
              "    }\n",
              "\n",
              "    .dataframe thead th {\n",
              "        text-align: right;\n",
              "    }\n",
              "</style>\n",
              "<table border=\"1\" class=\"dataframe\">\n",
              "  <thead>\n",
              "    <tr style=\"text-align: right;\">\n",
              "      <th></th>\n",
              "      <th>pm25</th>\n",
              "      <th>pm10</th>\n",
              "      <th>o3</th>\n",
              "      <th>no2</th>\n",
              "      <th>so2</th>\n",
              "      <th>co</th>\n",
              "      <th>year</th>\n",
              "      <th>month</th>\n",
              "      <th>PM2.5_AQI</th>\n",
              "      <th>PM10_AQI</th>\n",
              "      <th>NO2_AQI</th>\n",
              "      <th>CO_AQI</th>\n",
              "      <th>O3_AQI</th>\n",
              "      <th>AQI</th>\n",
              "    </tr>\n",
              "  </thead>\n",
              "  <tbody>\n",
              "    <tr>\n",
              "      <th>count</th>\n",
              "      <td>2512.000000</td>\n",
              "      <td>2491.000000</td>\n",
              "      <td>2486.000000</td>\n",
              "      <td>2479.000000</td>\n",
              "      <td>2443.000000</td>\n",
              "      <td>2480.000000</td>\n",
              "      <td>2541.000000</td>\n",
              "      <td>2541.000000</td>\n",
              "      <td>2541.000000</td>\n",
              "      <td>2541.000000</td>\n",
              "      <td>2541.000000</td>\n",
              "      <td>2541.000000</td>\n",
              "      <td>2541.000000</td>\n",
              "      <td>2541.000000</td>\n",
              "    </tr>\n",
              "    <tr>\n",
              "      <th>mean</th>\n",
              "      <td>187.619427</td>\n",
              "      <td>186.114412</td>\n",
              "      <td>16.835076</td>\n",
              "      <td>19.020976</td>\n",
              "      <td>5.916496</td>\n",
              "      <td>12.784677</td>\n",
              "      <td>2021.049980</td>\n",
              "      <td>6.493900</td>\n",
              "      <td>225.783548</td>\n",
              "      <td>245.606730</td>\n",
              "      <td>69.932188</td>\n",
              "      <td>18.097000</td>\n",
              "      <td>69.057139</td>\n",
              "      <td>292.879196</td>\n",
              "    </tr>\n",
              "    <tr>\n",
              "      <th>std</th>\n",
              "      <td>85.558149</td>\n",
              "      <td>121.448428</td>\n",
              "      <td>14.118048</td>\n",
              "      <td>12.561405</td>\n",
              "      <td>4.768729</td>\n",
              "      <td>7.823667</td>\n",
              "      <td>2.023158</td>\n",
              "      <td>3.476533</td>\n",
              "      <td>134.429674</td>\n",
              "      <td>111.932029</td>\n",
              "      <td>21.696898</td>\n",
              "      <td>11.814251</td>\n",
              "      <td>17.530591</td>\n",
              "      <td>102.082280</td>\n",
              "    </tr>\n",
              "    <tr>\n",
              "      <th>min</th>\n",
              "      <td>26.000000</td>\n",
              "      <td>15.000000</td>\n",
              "      <td>1.000000</td>\n",
              "      <td>1.000000</td>\n",
              "      <td>1.000000</td>\n",
              "      <td>1.000000</td>\n",
              "      <td>2018.000000</td>\n",
              "      <td>1.000000</td>\n",
              "      <td>0.000000</td>\n",
              "      <td>0.000000</td>\n",
              "      <td>0.000000</td>\n",
              "      <td>0.000000</td>\n",
              "      <td>0.000000</td>\n",
              "      <td>0.000000</td>\n",
              "    </tr>\n",
              "    <tr>\n",
              "      <th>25%</th>\n",
              "      <td>130.000000</td>\n",
              "      <td>102.000000</td>\n",
              "      <td>6.000000</td>\n",
              "      <td>10.000000</td>\n",
              "      <td>2.000000</td>\n",
              "      <td>8.000000</td>\n",
              "      <td>2019.000000</td>\n",
              "      <td>3.000000</td>\n",
              "      <td>187.870390</td>\n",
              "      <td>189.000000</td>\n",
              "      <td>62.679245</td>\n",
              "      <td>10.979592</td>\n",
              "      <td>60.444444</td>\n",
              "      <td>223.661749</td>\n",
              "    </tr>\n",
              "    <tr>\n",
              "      <th>50%</th>\n",
              "      <td>164.000000</td>\n",
              "      <td>146.000000</td>\n",
              "      <td>13.000000</td>\n",
              "      <td>16.000000</td>\n",
              "      <td>5.000000</td>\n",
              "      <td>11.000000</td>\n",
              "      <td>2021.000000</td>\n",
              "      <td>7.000000</td>\n",
              "      <td>237.346681</td>\n",
              "      <td>234.000000</td>\n",
              "      <td>67.886792</td>\n",
              "      <td>13.000000</td>\n",
              "      <td>66.796296</td>\n",
              "      <td>271.762763</td>\n",
              "    </tr>\n",
              "    <tr>\n",
              "      <th>75%</th>\n",
              "      <td>223.000000</td>\n",
              "      <td>231.000000</td>\n",
              "      <td>24.000000</td>\n",
              "      <td>24.000000</td>\n",
              "      <td>9.000000</td>\n",
              "      <td>16.000000</td>\n",
              "      <td>2023.000000</td>\n",
              "      <td>10.000000</td>\n",
              "      <td>304.282282</td>\n",
              "      <td>307.000000</td>\n",
              "      <td>74.830189</td>\n",
              "      <td>28.344828</td>\n",
              "      <td>76.777778</td>\n",
              "      <td>359.181818</td>\n",
              "    </tr>\n",
              "    <tr>\n",
              "      <th>max</th>\n",
              "      <td>828.000000</td>\n",
              "      <td>979.000000</td>\n",
              "      <td>108.000000</td>\n",
              "      <td>98.000000</td>\n",
              "      <td>40.000000</td>\n",
              "      <td>75.000000</td>\n",
              "      <td>2025.000000</td>\n",
              "      <td>12.000000</td>\n",
              "      <td>499.399399</td>\n",
              "      <td>606.594203</td>\n",
              "      <td>348.739130</td>\n",
              "      <td>49.865772</td>\n",
              "      <td>211.030303</td>\n",
              "      <td>606.594203</td>\n",
              "    </tr>\n",
              "  </tbody>\n",
              "</table>\n",
              "</div>"
            ],
            "text/plain": [
              "              pm25         pm10           o3          no2          so2  \\\n",
              "count  2512.000000  2491.000000  2486.000000  2479.000000  2443.000000   \n",
              "mean    187.619427   186.114412    16.835076    19.020976     5.916496   \n",
              "std      85.558149   121.448428    14.118048    12.561405     4.768729   \n",
              "min      26.000000    15.000000     1.000000     1.000000     1.000000   \n",
              "25%     130.000000   102.000000     6.000000    10.000000     2.000000   \n",
              "50%     164.000000   146.000000    13.000000    16.000000     5.000000   \n",
              "75%     223.000000   231.000000    24.000000    24.000000     9.000000   \n",
              "max     828.000000   979.000000   108.000000    98.000000    40.000000   \n",
              "\n",
              "                co         year        month    PM2.5_AQI     PM10_AQI  \\\n",
              "count  2480.000000  2541.000000  2541.000000  2541.000000  2541.000000   \n",
              "mean     12.784677  2021.049980     6.493900   225.783548   245.606730   \n",
              "std       7.823667     2.023158     3.476533   134.429674   111.932029   \n",
              "min       1.000000  2018.000000     1.000000     0.000000     0.000000   \n",
              "25%       8.000000  2019.000000     3.000000   187.870390   189.000000   \n",
              "50%      11.000000  2021.000000     7.000000   237.346681   234.000000   \n",
              "75%      16.000000  2023.000000    10.000000   304.282282   307.000000   \n",
              "max      75.000000  2025.000000    12.000000   499.399399   606.594203   \n",
              "\n",
              "           NO2_AQI       CO_AQI       O3_AQI          AQI  \n",
              "count  2541.000000  2541.000000  2541.000000  2541.000000  \n",
              "mean     69.932188    18.097000    69.057139   292.879196  \n",
              "std      21.696898    11.814251    17.530591   102.082280  \n",
              "min       0.000000     0.000000     0.000000     0.000000  \n",
              "25%      62.679245    10.979592    60.444444   223.661749  \n",
              "50%      67.886792    13.000000    66.796296   271.762763  \n",
              "75%      74.830189    28.344828    76.777778   359.181818  \n",
              "max     348.739130    49.865772   211.030303   606.594203  "
            ]
          },
          "execution_count": 2,
          "metadata": {},
          "output_type": "execute_result"
        }
      ],
      "source": [
        "delhi_aqi_file = pd.read_csv(\"Updated_Dataset_with_AQI (1).csv\", index_col=0)\n",
        "delhi_aqi_file.describe()\n"
      ]
    },
    {
      "cell_type": "markdown",
      "metadata": {
        "id": "lGe_9MBC7k55"
      },
      "source": [
        "# ***Data cleaning and Data processing***"
      ]
    },
    {
      "cell_type": "code",
      "execution_count": 3,
      "metadata": {
        "id": "b4brOsyUwvkl"
      },
      "outputs": [],
      "source": [
        "delhi_aqi_data = pd.DataFrame()\n",
        "delhi_aqi_data[['date','pm25','pm10','o3','no2','so2','co','AQI']] = delhi_aqi_file[['date','pm25','pm10','o3','no2','so2','co','AQI']]"
      ]
    },
    {
      "cell_type": "markdown",
      "metadata": {
        "id": "uKBH1zWUjSFC"
      },
      "source": [
        "**Viewing the first five rows**"
      ]
    },
    {
      "cell_type": "code",
      "execution_count": 4,
      "metadata": {
        "colab": {
          "base_uri": "https://localhost:8080/"
        },
        "id": "lhH2fumFjbzQ",
        "outputId": "d67bd280-7b85-4314-c1e4-df2e70a527b9"
      },
      "outputs": [
        {
          "data": {
            "text/html": [
              "<div>\n",
              "<style scoped>\n",
              "    .dataframe tbody tr th:only-of-type {\n",
              "        vertical-align: middle;\n",
              "    }\n",
              "\n",
              "    .dataframe tbody tr th {\n",
              "        vertical-align: top;\n",
              "    }\n",
              "\n",
              "    .dataframe thead th {\n",
              "        text-align: right;\n",
              "    }\n",
              "</style>\n",
              "<table border=\"1\" class=\"dataframe\">\n",
              "  <thead>\n",
              "    <tr style=\"text-align: right;\">\n",
              "      <th></th>\n",
              "      <th>date</th>\n",
              "      <th>pm25</th>\n",
              "      <th>pm10</th>\n",
              "      <th>o3</th>\n",
              "      <th>no2</th>\n",
              "      <th>so2</th>\n",
              "      <th>co</th>\n",
              "      <th>AQI</th>\n",
              "    </tr>\n",
              "    <tr>\n",
              "      <th>Unnamed: 0</th>\n",
              "      <th></th>\n",
              "      <th></th>\n",
              "      <th></th>\n",
              "      <th></th>\n",
              "      <th></th>\n",
              "      <th></th>\n",
              "      <th></th>\n",
              "      <th></th>\n",
              "    </tr>\n",
              "  </thead>\n",
              "  <tbody>\n",
              "    <tr>\n",
              "      <th>0</th>\n",
              "      <td>2024-10-01</td>\n",
              "      <td>153.0</td>\n",
              "      <td>151.0</td>\n",
              "      <td>30.0</td>\n",
              "      <td>22.0</td>\n",
              "      <td>1.0</td>\n",
              "      <td>14.0</td>\n",
              "      <td>256.753754</td>\n",
              "    </tr>\n",
              "    <tr>\n",
              "      <th>1</th>\n",
              "      <td>2024-10-02</td>\n",
              "      <td>160.0</td>\n",
              "      <td>161.0</td>\n",
              "      <td>35.0</td>\n",
              "      <td>22.0</td>\n",
              "      <td>3.0</td>\n",
              "      <td>13.0</td>\n",
              "      <td>274.264264</td>\n",
              "    </tr>\n",
              "    <tr>\n",
              "      <th>2</th>\n",
              "      <td>2024-10-03</td>\n",
              "      <td>198.0</td>\n",
              "      <td>158.0</td>\n",
              "      <td>31.0</td>\n",
              "      <td>20.0</td>\n",
              "      <td>3.0</td>\n",
              "      <td>13.0</td>\n",
              "      <td>369.321321</td>\n",
              "    </tr>\n",
              "    <tr>\n",
              "      <th>3</th>\n",
              "      <td>2024-10-04</td>\n",
              "      <td>141.0</td>\n",
              "      <td>129.0</td>\n",
              "      <td>32.0</td>\n",
              "      <td>17.0</td>\n",
              "      <td>2.0</td>\n",
              "      <td>11.0</td>\n",
              "      <td>240.504742</td>\n",
              "    </tr>\n",
              "    <tr>\n",
              "      <th>4</th>\n",
              "      <td>2024-10-05</td>\n",
              "      <td>112.0</td>\n",
              "      <td>127.0</td>\n",
              "      <td>28.0</td>\n",
              "      <td>14.0</td>\n",
              "      <td>3.0</td>\n",
              "      <td>8.0</td>\n",
              "      <td>227.000000</td>\n",
              "    </tr>\n",
              "  </tbody>\n",
              "</table>\n",
              "</div>"
            ],
            "text/plain": [
              "                  date   pm25   pm10    o3   no2  so2    co         AQI\n",
              "Unnamed: 0                                                             \n",
              "0           2024-10-01  153.0  151.0  30.0  22.0  1.0  14.0  256.753754\n",
              "1           2024-10-02  160.0  161.0  35.0  22.0  3.0  13.0  274.264264\n",
              "2           2024-10-03  198.0  158.0  31.0  20.0  3.0  13.0  369.321321\n",
              "3           2024-10-04  141.0  129.0  32.0  17.0  2.0  11.0  240.504742\n",
              "4           2024-10-05  112.0  127.0  28.0  14.0  3.0   8.0  227.000000"
            ]
          },
          "execution_count": 4,
          "metadata": {},
          "output_type": "execute_result"
        }
      ],
      "source": [
        "delhi_aqi_data.head()"
      ]
    },
    {
      "cell_type": "markdown",
      "metadata": {
        "id": "UiKsxOWYjh4C"
      },
      "source": [
        "**Viewing the last five rows**"
      ]
    },
    {
      "cell_type": "code",
      "execution_count": 5,
      "metadata": {
        "colab": {
          "base_uri": "https://localhost:8080/"
        },
        "id": "nLNZ6mDdjmig",
        "outputId": "e1ee689a-8681-4bda-f5cd-e8ed478592bc"
      },
      "outputs": [
        {
          "data": {
            "text/html": [
              "<div>\n",
              "<style scoped>\n",
              "    .dataframe tbody tr th:only-of-type {\n",
              "        vertical-align: middle;\n",
              "    }\n",
              "\n",
              "    .dataframe tbody tr th {\n",
              "        vertical-align: top;\n",
              "    }\n",
              "\n",
              "    .dataframe thead th {\n",
              "        text-align: right;\n",
              "    }\n",
              "</style>\n",
              "<table border=\"1\" class=\"dataframe\">\n",
              "  <thead>\n",
              "    <tr style=\"text-align: right;\">\n",
              "      <th></th>\n",
              "      <th>date</th>\n",
              "      <th>pm25</th>\n",
              "      <th>pm10</th>\n",
              "      <th>o3</th>\n",
              "      <th>no2</th>\n",
              "      <th>so2</th>\n",
              "      <th>co</th>\n",
              "      <th>AQI</th>\n",
              "    </tr>\n",
              "    <tr>\n",
              "      <th>Unnamed: 0</th>\n",
              "      <th></th>\n",
              "      <th></th>\n",
              "      <th></th>\n",
              "      <th></th>\n",
              "      <th></th>\n",
              "      <th></th>\n",
              "      <th></th>\n",
              "      <th></th>\n",
              "    </tr>\n",
              "  </thead>\n",
              "  <tbody>\n",
              "    <tr>\n",
              "      <th>2536</th>\n",
              "      <td>2024-09-20</td>\n",
              "      <td>NaN</td>\n",
              "      <td>183.0</td>\n",
              "      <td>27.0</td>\n",
              "      <td>45.0</td>\n",
              "      <td>2.0</td>\n",
              "      <td>22.0</td>\n",
              "      <td>283.0</td>\n",
              "    </tr>\n",
              "    <tr>\n",
              "      <th>2537</th>\n",
              "      <td>2020-09-01</td>\n",
              "      <td>NaN</td>\n",
              "      <td>59.0</td>\n",
              "      <td>6.0</td>\n",
              "      <td>16.0</td>\n",
              "      <td>12.0</td>\n",
              "      <td>10.0</td>\n",
              "      <td>159.0</td>\n",
              "    </tr>\n",
              "    <tr>\n",
              "      <th>2538</th>\n",
              "      <td>2020-09-06</td>\n",
              "      <td>NaN</td>\n",
              "      <td>91.0</td>\n",
              "      <td>7.0</td>\n",
              "      <td>22.0</td>\n",
              "      <td>10.0</td>\n",
              "      <td>NaN</td>\n",
              "      <td>191.0</td>\n",
              "    </tr>\n",
              "    <tr>\n",
              "      <th>2539</th>\n",
              "      <td>2019-09-15</td>\n",
              "      <td>NaN</td>\n",
              "      <td>158.0</td>\n",
              "      <td>13.0</td>\n",
              "      <td>25.0</td>\n",
              "      <td>4.0</td>\n",
              "      <td>10.0</td>\n",
              "      <td>258.0</td>\n",
              "    </tr>\n",
              "    <tr>\n",
              "      <th>2540</th>\n",
              "      <td>2019-09-21</td>\n",
              "      <td>NaN</td>\n",
              "      <td>122.0</td>\n",
              "      <td>14.0</td>\n",
              "      <td>17.0</td>\n",
              "      <td>6.0</td>\n",
              "      <td>7.0</td>\n",
              "      <td>222.0</td>\n",
              "    </tr>\n",
              "  </tbody>\n",
              "</table>\n",
              "</div>"
            ],
            "text/plain": [
              "                  date  pm25   pm10    o3   no2   so2    co    AQI\n",
              "Unnamed: 0                                                        \n",
              "2536        2024-09-20   NaN  183.0  27.0  45.0   2.0  22.0  283.0\n",
              "2537        2020-09-01   NaN   59.0   6.0  16.0  12.0  10.0  159.0\n",
              "2538        2020-09-06   NaN   91.0   7.0  22.0  10.0   NaN  191.0\n",
              "2539        2019-09-15   NaN  158.0  13.0  25.0   4.0  10.0  258.0\n",
              "2540        2019-09-21   NaN  122.0  14.0  17.0   6.0   7.0  222.0"
            ]
          },
          "execution_count": 5,
          "metadata": {},
          "output_type": "execute_result"
        }
      ],
      "source": [
        "delhi_aqi_data.tail()"
      ]
    },
    {
      "cell_type": "markdown",
      "metadata": {
        "id": "bhycpHCBkTYX"
      },
      "source": [
        "**calculating the size of the dataframe**"
      ]
    },
    {
      "cell_type": "code",
      "execution_count": 6,
      "metadata": {
        "colab": {
          "base_uri": "https://localhost:8080/"
        },
        "id": "X0bE4AJBkCpU",
        "outputId": "78410b09-4501-4ae4-beca-2388bcf66152"
      },
      "outputs": [
        {
          "data": {
            "text/plain": [
              "(2541, 8)"
            ]
          },
          "execution_count": 6,
          "metadata": {},
          "output_type": "execute_result"
        }
      ],
      "source": [
        "delhi_aqi_data.shape"
      ]
    },
    {
      "cell_type": "markdown",
      "metadata": {
        "id": "ohGK75U6k77C"
      },
      "source": [
        "**Viewing the columns**"
      ]
    },
    {
      "cell_type": "code",
      "execution_count": 7,
      "metadata": {
        "colab": {
          "base_uri": "https://localhost:8080/"
        },
        "id": "FyH5RUOakomw",
        "outputId": "ffab2c3b-7322-4295-ae73-f847a8e24c37"
      },
      "outputs": [
        {
          "data": {
            "text/plain": [
              "Index(['date', 'pm25', 'pm10', 'o3', 'no2', 'so2', 'co', 'AQI'], dtype='object')"
            ]
          },
          "execution_count": 7,
          "metadata": {},
          "output_type": "execute_result"
        }
      ],
      "source": [
        "delhi_aqi_data.columns"
      ]
    },
    {
      "cell_type": "markdown",
      "metadata": {
        "id": "jYSTx11Nmk16"
      },
      "source": [
        "Getting the information about the dataset"
      ]
    },
    {
      "cell_type": "code",
      "execution_count": 8,
      "metadata": {
        "colab": {
          "base_uri": "https://localhost:8080/"
        },
        "id": "3qOyp56Uk_mn",
        "outputId": "a272c7be-2db9-4a51-f5a8-87bf89c5ad62"
      },
      "outputs": [
        {
          "name": "stdout",
          "output_type": "stream",
          "text": [
            "<class 'pandas.core.frame.DataFrame'>\n",
            "Int64Index: 2541 entries, 0 to 2540\n",
            "Data columns (total 8 columns):\n",
            " #   Column  Non-Null Count  Dtype  \n",
            "---  ------  --------------  -----  \n",
            " 0   date    2541 non-null   object \n",
            " 1   pm25    2512 non-null   float64\n",
            " 2   pm10    2491 non-null   float64\n",
            " 3   o3      2486 non-null   float64\n",
            " 4   no2     2479 non-null   float64\n",
            " 5   so2     2443 non-null   float64\n",
            " 6   co      2480 non-null   float64\n",
            " 7   AQI     2541 non-null   float64\n",
            "dtypes: float64(7), object(1)\n",
            "memory usage: 178.7+ KB\n"
          ]
        }
      ],
      "source": [
        "delhi_aqi_data.info()"
      ]
    },
    {
      "cell_type": "markdown",
      "metadata": {
        "id": "z_4R4KDfmue-"
      },
      "source": [
        "Checking the missing values in the dataframe."
      ]
    },
    {
      "cell_type": "code",
      "execution_count": 9,
      "metadata": {
        "colab": {
          "base_uri": "https://localhost:8080/"
        },
        "id": "rxcrAN2lm6e3",
        "outputId": "8e12cd0c-7475-4546-a47f-d28063f4a8c3"
      },
      "outputs": [
        {
          "data": {
            "text/plain": [
              "date     0\n",
              "pm25    29\n",
              "pm10    50\n",
              "o3      55\n",
              "no2     62\n",
              "so2     98\n",
              "co      61\n",
              "AQI      0\n",
              "dtype: int64"
            ]
          },
          "execution_count": 9,
          "metadata": {},
          "output_type": "execute_result"
        }
      ],
      "source": [
        "delhi_aqi_data.isnull().sum()"
      ]
    },
    {
      "cell_type": "markdown",
      "metadata": {
        "id": "3NrhUFFNoXK9"
      },
      "source": [
        "There are some missing values in our dataframe which are represented as empty space/\" \". We will find the count of these such values."
      ]
    },
    {
      "cell_type": "code",
      "execution_count": 10,
      "metadata": {
        "colab": {
          "base_uri": "https://localhost:8080/"
        },
        "id": "UrWBaXsnoHKO",
        "outputId": "6c4e005e-f241-4522-f308-df317d55f2ff"
      },
      "outputs": [
        {
          "data": {
            "text/plain": [
              "date    0\n",
              "pm25    0\n",
              "pm10    0\n",
              "o3      0\n",
              "no2     0\n",
              "so2     0\n",
              "co      0\n",
              "AQI     0\n",
              "dtype: int64"
            ]
          },
          "execution_count": 10,
          "metadata": {},
          "output_type": "execute_result"
        }
      ],
      "source": [
        "delhi_aqi_data.isin([\" \"]).sum(axis=0)"
      ]
    },
    {
      "cell_type": "markdown",
      "metadata": {
        "id": "mVWY-2q0oxLQ"
      },
      "source": [
        "**Handling the missing values**"
      ]
    },
    {
      "cell_type": "markdown",
      "metadata": {
        "id": "rkvaRzXLpTaX"
      },
      "source": [
        "Covert all empty spaces with NaN\n",
        "\n",
        "and then insert the mean of that particular column to thos NaN values"
      ]
    },
    {
      "cell_type": "code",
      "execution_count": 11,
      "metadata": {
        "id": "V0uOX9Wkoznt"
      },
      "outputs": [],
      "source": [
        "delhi_aqi_data = delhi_aqi_data.replace(to_replace = \" \",value = np.nan)"
      ]
    },
    {
      "cell_type": "code",
      "execution_count": 12,
      "metadata": {
        "colab": {
          "base_uri": "https://localhost:8080/"
        },
        "id": "xYs11ahZp7K8",
        "outputId": "94d3e981-32cc-4431-a2cd-2fafa6e33d2f"
      },
      "outputs": [
        {
          "data": {
            "text/plain": [
              "date     0\n",
              "pm25    29\n",
              "pm10    50\n",
              "o3      55\n",
              "no2     62\n",
              "so2     98\n",
              "co      61\n",
              "AQI      0\n",
              "dtype: int64"
            ]
          },
          "execution_count": 12,
          "metadata": {},
          "output_type": "execute_result"
        }
      ],
      "source": [
        "delhi_aqi_data.isnull().sum()"
      ]
    },
    {
      "cell_type": "markdown",
      "metadata": {
        "id": "lCRwhZ9mqE22"
      },
      "source": [
        "This shows the actual number of missing values as python only understand NaN values as missing values."
      ]
    },
    {
      "cell_type": "code",
      "execution_count": 13,
      "metadata": {
        "colab": {
          "base_uri": "https://localhost:8080/"
        },
        "id": "Nebsb0FvsEIK",
        "outputId": "c7e9e910-da55-42fc-ecb2-cf282ab0b31e"
      },
      "outputs": [
        {
          "data": {
            "text/html": [
              "<div>\n",
              "<style scoped>\n",
              "    .dataframe tbody tr th:only-of-type {\n",
              "        vertical-align: middle;\n",
              "    }\n",
              "\n",
              "    .dataframe tbody tr th {\n",
              "        vertical-align: top;\n",
              "    }\n",
              "\n",
              "    .dataframe thead th {\n",
              "        text-align: right;\n",
              "    }\n",
              "</style>\n",
              "<table border=\"1\" class=\"dataframe\">\n",
              "  <thead>\n",
              "    <tr style=\"text-align: right;\">\n",
              "      <th></th>\n",
              "      <th>date</th>\n",
              "      <th>pm25</th>\n",
              "      <th>pm10</th>\n",
              "      <th>o3</th>\n",
              "      <th>no2</th>\n",
              "      <th>so2</th>\n",
              "      <th>co</th>\n",
              "      <th>AQI</th>\n",
              "    </tr>\n",
              "    <tr>\n",
              "      <th>Unnamed: 0</th>\n",
              "      <th></th>\n",
              "      <th></th>\n",
              "      <th></th>\n",
              "      <th></th>\n",
              "      <th></th>\n",
              "      <th></th>\n",
              "      <th></th>\n",
              "      <th></th>\n",
              "    </tr>\n",
              "  </thead>\n",
              "  <tbody>\n",
              "    <tr>\n",
              "      <th>2536</th>\n",
              "      <td>2024-09-20</td>\n",
              "      <td>NaN</td>\n",
              "      <td>183.0</td>\n",
              "      <td>27.0</td>\n",
              "      <td>45.0</td>\n",
              "      <td>2.0</td>\n",
              "      <td>22.0</td>\n",
              "      <td>283.0</td>\n",
              "    </tr>\n",
              "    <tr>\n",
              "      <th>2537</th>\n",
              "      <td>2020-09-01</td>\n",
              "      <td>NaN</td>\n",
              "      <td>59.0</td>\n",
              "      <td>6.0</td>\n",
              "      <td>16.0</td>\n",
              "      <td>12.0</td>\n",
              "      <td>10.0</td>\n",
              "      <td>159.0</td>\n",
              "    </tr>\n",
              "    <tr>\n",
              "      <th>2538</th>\n",
              "      <td>2020-09-06</td>\n",
              "      <td>NaN</td>\n",
              "      <td>91.0</td>\n",
              "      <td>7.0</td>\n",
              "      <td>22.0</td>\n",
              "      <td>10.0</td>\n",
              "      <td>NaN</td>\n",
              "      <td>191.0</td>\n",
              "    </tr>\n",
              "    <tr>\n",
              "      <th>2539</th>\n",
              "      <td>2019-09-15</td>\n",
              "      <td>NaN</td>\n",
              "      <td>158.0</td>\n",
              "      <td>13.0</td>\n",
              "      <td>25.0</td>\n",
              "      <td>4.0</td>\n",
              "      <td>10.0</td>\n",
              "      <td>258.0</td>\n",
              "    </tr>\n",
              "    <tr>\n",
              "      <th>2540</th>\n",
              "      <td>2019-09-21</td>\n",
              "      <td>NaN</td>\n",
              "      <td>122.0</td>\n",
              "      <td>14.0</td>\n",
              "      <td>17.0</td>\n",
              "      <td>6.0</td>\n",
              "      <td>7.0</td>\n",
              "      <td>222.0</td>\n",
              "    </tr>\n",
              "  </tbody>\n",
              "</table>\n",
              "</div>"
            ],
            "text/plain": [
              "                  date  pm25   pm10    o3   no2   so2    co    AQI\n",
              "Unnamed: 0                                                        \n",
              "2536        2024-09-20   NaN  183.0  27.0  45.0   2.0  22.0  283.0\n",
              "2537        2020-09-01   NaN   59.0   6.0  16.0  12.0  10.0  159.0\n",
              "2538        2020-09-06   NaN   91.0   7.0  22.0  10.0   NaN  191.0\n",
              "2539        2019-09-15   NaN  158.0  13.0  25.0   4.0  10.0  258.0\n",
              "2540        2019-09-21   NaN  122.0  14.0  17.0   6.0   7.0  222.0"
            ]
          },
          "execution_count": 13,
          "metadata": {},
          "output_type": "execute_result"
        }
      ],
      "source": [
        "delhi_aqi_data.tail()"
      ]
    },
    {
      "cell_type": "markdown",
      "metadata": {
        "id": "7QCfnx6ysN2E"
      },
      "source": [
        "From above we can see that every empty space value has been replaced by the NaN values. Now we will remove the mean"
      ]
    },
    {
      "cell_type": "code",
      "execution_count": 14,
      "metadata": {
        "colab": {
          "base_uri": "https://localhost:8080/"
        },
        "id": "OI9Qkqm_s_wL",
        "outputId": "a24940da-03f5-4e67-9131-90752b9d8d22"
      },
      "outputs": [
        {
          "data": {
            "text/html": [
              "<div>\n",
              "<style scoped>\n",
              "    .dataframe tbody tr th:only-of-type {\n",
              "        vertical-align: middle;\n",
              "    }\n",
              "\n",
              "    .dataframe tbody tr th {\n",
              "        vertical-align: top;\n",
              "    }\n",
              "\n",
              "    .dataframe thead th {\n",
              "        text-align: right;\n",
              "    }\n",
              "</style>\n",
              "<table border=\"1\" class=\"dataframe\">\n",
              "  <thead>\n",
              "    <tr style=\"text-align: right;\">\n",
              "      <th></th>\n",
              "      <th>date</th>\n",
              "      <th>pm25</th>\n",
              "      <th>pm10</th>\n",
              "      <th>o3</th>\n",
              "      <th>no2</th>\n",
              "      <th>so2</th>\n",
              "      <th>co</th>\n",
              "      <th>AQI</th>\n",
              "    </tr>\n",
              "    <tr>\n",
              "      <th>Unnamed: 0</th>\n",
              "      <th></th>\n",
              "      <th></th>\n",
              "      <th></th>\n",
              "      <th></th>\n",
              "      <th></th>\n",
              "      <th></th>\n",
              "      <th></th>\n",
              "      <th></th>\n",
              "    </tr>\n",
              "  </thead>\n",
              "  <tbody>\n",
              "    <tr>\n",
              "      <th>0</th>\n",
              "      <td>2024-10-01</td>\n",
              "      <td>153.0</td>\n",
              "      <td>151.0</td>\n",
              "      <td>30.0</td>\n",
              "      <td>22.0</td>\n",
              "      <td>1.0</td>\n",
              "      <td>14.0</td>\n",
              "      <td>256.753754</td>\n",
              "    </tr>\n",
              "    <tr>\n",
              "      <th>1</th>\n",
              "      <td>2024-10-02</td>\n",
              "      <td>160.0</td>\n",
              "      <td>161.0</td>\n",
              "      <td>35.0</td>\n",
              "      <td>22.0</td>\n",
              "      <td>3.0</td>\n",
              "      <td>13.0</td>\n",
              "      <td>274.264264</td>\n",
              "    </tr>\n",
              "    <tr>\n",
              "      <th>2</th>\n",
              "      <td>2024-10-03</td>\n",
              "      <td>198.0</td>\n",
              "      <td>158.0</td>\n",
              "      <td>31.0</td>\n",
              "      <td>20.0</td>\n",
              "      <td>3.0</td>\n",
              "      <td>13.0</td>\n",
              "      <td>369.321321</td>\n",
              "    </tr>\n",
              "    <tr>\n",
              "      <th>3</th>\n",
              "      <td>2024-10-04</td>\n",
              "      <td>141.0</td>\n",
              "      <td>129.0</td>\n",
              "      <td>32.0</td>\n",
              "      <td>17.0</td>\n",
              "      <td>2.0</td>\n",
              "      <td>11.0</td>\n",
              "      <td>240.504742</td>\n",
              "    </tr>\n",
              "    <tr>\n",
              "      <th>4</th>\n",
              "      <td>2024-10-05</td>\n",
              "      <td>112.0</td>\n",
              "      <td>127.0</td>\n",
              "      <td>28.0</td>\n",
              "      <td>14.0</td>\n",
              "      <td>3.0</td>\n",
              "      <td>8.0</td>\n",
              "      <td>227.000000</td>\n",
              "    </tr>\n",
              "  </tbody>\n",
              "</table>\n",
              "</div>"
            ],
            "text/plain": [
              "                  date   pm25   pm10    o3   no2  so2    co         AQI\n",
              "Unnamed: 0                                                             \n",
              "0           2024-10-01  153.0  151.0  30.0  22.0  1.0  14.0  256.753754\n",
              "1           2024-10-02  160.0  161.0  35.0  22.0  3.0  13.0  274.264264\n",
              "2           2024-10-03  198.0  158.0  31.0  20.0  3.0  13.0  369.321321\n",
              "3           2024-10-04  141.0  129.0  32.0  17.0  2.0  11.0  240.504742\n",
              "4           2024-10-05  112.0  127.0  28.0  14.0  3.0   8.0  227.000000"
            ]
          },
          "execution_count": 14,
          "metadata": {},
          "output_type": "execute_result"
        }
      ],
      "source": [
        "delhi_aqi_data.iloc[:,1:] = delhi_aqi_data.iloc[:,1:].apply(pd.to_numeric)\n",
        "delhi_aqi_data.head()"
      ]
    },
    {
      "cell_type": "code",
      "execution_count": 15,
      "metadata": {
        "colab": {
          "base_uri": "https://localhost:8080/"
        },
        "id": "x0u34qLeu-FY",
        "outputId": "c4a663b3-453f-4300-812b-c5df40e05c4c"
      },
      "outputs": [
        {
          "data": {
            "text/html": [
              "<div>\n",
              "<style scoped>\n",
              "    .dataframe tbody tr th:only-of-type {\n",
              "        vertical-align: middle;\n",
              "    }\n",
              "\n",
              "    .dataframe tbody tr th {\n",
              "        vertical-align: top;\n",
              "    }\n",
              "\n",
              "    .dataframe thead th {\n",
              "        text-align: right;\n",
              "    }\n",
              "</style>\n",
              "<table border=\"1\" class=\"dataframe\">\n",
              "  <thead>\n",
              "    <tr style=\"text-align: right;\">\n",
              "      <th></th>\n",
              "      <th>date</th>\n",
              "      <th>pm25</th>\n",
              "      <th>pm10</th>\n",
              "      <th>o3</th>\n",
              "      <th>no2</th>\n",
              "      <th>so2</th>\n",
              "      <th>co</th>\n",
              "      <th>AQI</th>\n",
              "    </tr>\n",
              "    <tr>\n",
              "      <th>Unnamed: 0</th>\n",
              "      <th></th>\n",
              "      <th></th>\n",
              "      <th></th>\n",
              "      <th></th>\n",
              "      <th></th>\n",
              "      <th></th>\n",
              "      <th></th>\n",
              "      <th></th>\n",
              "    </tr>\n",
              "  </thead>\n",
              "  <tbody>\n",
              "    <tr>\n",
              "      <th>2536</th>\n",
              "      <td>2024-09-20</td>\n",
              "      <td>NaN</td>\n",
              "      <td>183.0</td>\n",
              "      <td>27.0</td>\n",
              "      <td>45.0</td>\n",
              "      <td>2.0</td>\n",
              "      <td>22.0</td>\n",
              "      <td>283.0</td>\n",
              "    </tr>\n",
              "    <tr>\n",
              "      <th>2537</th>\n",
              "      <td>2020-09-01</td>\n",
              "      <td>NaN</td>\n",
              "      <td>59.0</td>\n",
              "      <td>6.0</td>\n",
              "      <td>16.0</td>\n",
              "      <td>12.0</td>\n",
              "      <td>10.0</td>\n",
              "      <td>159.0</td>\n",
              "    </tr>\n",
              "    <tr>\n",
              "      <th>2538</th>\n",
              "      <td>2020-09-06</td>\n",
              "      <td>NaN</td>\n",
              "      <td>91.0</td>\n",
              "      <td>7.0</td>\n",
              "      <td>22.0</td>\n",
              "      <td>10.0</td>\n",
              "      <td>NaN</td>\n",
              "      <td>191.0</td>\n",
              "    </tr>\n",
              "    <tr>\n",
              "      <th>2539</th>\n",
              "      <td>2019-09-15</td>\n",
              "      <td>NaN</td>\n",
              "      <td>158.0</td>\n",
              "      <td>13.0</td>\n",
              "      <td>25.0</td>\n",
              "      <td>4.0</td>\n",
              "      <td>10.0</td>\n",
              "      <td>258.0</td>\n",
              "    </tr>\n",
              "    <tr>\n",
              "      <th>2540</th>\n",
              "      <td>2019-09-21</td>\n",
              "      <td>NaN</td>\n",
              "      <td>122.0</td>\n",
              "      <td>14.0</td>\n",
              "      <td>17.0</td>\n",
              "      <td>6.0</td>\n",
              "      <td>7.0</td>\n",
              "      <td>222.0</td>\n",
              "    </tr>\n",
              "  </tbody>\n",
              "</table>\n",
              "</div>"
            ],
            "text/plain": [
              "                  date  pm25   pm10    o3   no2   so2    co    AQI\n",
              "Unnamed: 0                                                        \n",
              "2536        2024-09-20   NaN  183.0  27.0  45.0   2.0  22.0  283.0\n",
              "2537        2020-09-01   NaN   59.0   6.0  16.0  12.0  10.0  159.0\n",
              "2538        2020-09-06   NaN   91.0   7.0  22.0  10.0   NaN  191.0\n",
              "2539        2019-09-15   NaN  158.0  13.0  25.0   4.0  10.0  258.0\n",
              "2540        2019-09-21   NaN  122.0  14.0  17.0   6.0   7.0  222.0"
            ]
          },
          "execution_count": 15,
          "metadata": {},
          "output_type": "execute_result"
        }
      ],
      "source": [
        "delhi_aqi_data.tail()"
      ]
    },
    {
      "cell_type": "markdown",
      "metadata": {
        "id": "9-r08dnkyRrG"
      },
      "source": [
        "Calculating the mean of the dataframe and escaping the first column of the dataset as it is not an Integer value rather it is an string value."
      ]
    },
    {
      "cell_type": "code",
      "execution_count": 16,
      "metadata": {
        "colab": {
          "base_uri": "https://localhost:8080/"
        },
        "id": "CziznzFvvB1j",
        "outputId": "637ddb95-82a5-467a-ec3f-a0caa02faa0b"
      },
      "outputs": [
        {
          "data": {
            "text/plain": [
              "pm25    187.619427\n",
              "pm10    186.114412\n",
              "o3       16.835076\n",
              "no2      19.020976\n",
              "so2       5.916496\n",
              "co       12.784677\n",
              "AQI     292.879196\n",
              "dtype: float64"
            ]
          },
          "execution_count": 16,
          "metadata": {},
          "output_type": "execute_result"
        }
      ],
      "source": [
        "delhi_aqi_data.iloc[:,1:].mean()"
      ]
    },
    {
      "cell_type": "markdown",
      "metadata": {
        "id": "SFin4tF7xpFe"
      },
      "source": [
        "Replacing the missing values with mean values"
      ]
    },
    {
      "cell_type": "code",
      "execution_count": 17,
      "metadata": {
        "id": "UKlpvI30xtYP"
      },
      "outputs": [],
      "source": [
        "delhi_aqi_data = delhi_aqi_data.fillna(delhi_aqi_data.iloc[:,1:].mean())"
      ]
    },
    {
      "cell_type": "code",
      "execution_count": 18,
      "metadata": {
        "colab": {
          "base_uri": "https://localhost:8080/"
        },
        "id": "H_cbEiEyyLtf",
        "outputId": "3024c239-ddc9-41b9-eabe-952529cd044c"
      },
      "outputs": [
        {
          "data": {
            "text/html": [
              "<div>\n",
              "<style scoped>\n",
              "    .dataframe tbody tr th:only-of-type {\n",
              "        vertical-align: middle;\n",
              "    }\n",
              "\n",
              "    .dataframe tbody tr th {\n",
              "        vertical-align: top;\n",
              "    }\n",
              "\n",
              "    .dataframe thead th {\n",
              "        text-align: right;\n",
              "    }\n",
              "</style>\n",
              "<table border=\"1\" class=\"dataframe\">\n",
              "  <thead>\n",
              "    <tr style=\"text-align: right;\">\n",
              "      <th></th>\n",
              "      <th>date</th>\n",
              "      <th>pm25</th>\n",
              "      <th>pm10</th>\n",
              "      <th>o3</th>\n",
              "      <th>no2</th>\n",
              "      <th>so2</th>\n",
              "      <th>co</th>\n",
              "      <th>AQI</th>\n",
              "    </tr>\n",
              "    <tr>\n",
              "      <th>Unnamed: 0</th>\n",
              "      <th></th>\n",
              "      <th></th>\n",
              "      <th></th>\n",
              "      <th></th>\n",
              "      <th></th>\n",
              "      <th></th>\n",
              "      <th></th>\n",
              "      <th></th>\n",
              "    </tr>\n",
              "  </thead>\n",
              "  <tbody>\n",
              "    <tr>\n",
              "      <th>2536</th>\n",
              "      <td>2024-09-20</td>\n",
              "      <td>187.619427</td>\n",
              "      <td>183.0</td>\n",
              "      <td>27.0</td>\n",
              "      <td>45.0</td>\n",
              "      <td>2.0</td>\n",
              "      <td>22.000000</td>\n",
              "      <td>283.0</td>\n",
              "    </tr>\n",
              "    <tr>\n",
              "      <th>2537</th>\n",
              "      <td>2020-09-01</td>\n",
              "      <td>187.619427</td>\n",
              "      <td>59.0</td>\n",
              "      <td>6.0</td>\n",
              "      <td>16.0</td>\n",
              "      <td>12.0</td>\n",
              "      <td>10.000000</td>\n",
              "      <td>159.0</td>\n",
              "    </tr>\n",
              "    <tr>\n",
              "      <th>2538</th>\n",
              "      <td>2020-09-06</td>\n",
              "      <td>187.619427</td>\n",
              "      <td>91.0</td>\n",
              "      <td>7.0</td>\n",
              "      <td>22.0</td>\n",
              "      <td>10.0</td>\n",
              "      <td>12.784677</td>\n",
              "      <td>191.0</td>\n",
              "    </tr>\n",
              "    <tr>\n",
              "      <th>2539</th>\n",
              "      <td>2019-09-15</td>\n",
              "      <td>187.619427</td>\n",
              "      <td>158.0</td>\n",
              "      <td>13.0</td>\n",
              "      <td>25.0</td>\n",
              "      <td>4.0</td>\n",
              "      <td>10.000000</td>\n",
              "      <td>258.0</td>\n",
              "    </tr>\n",
              "    <tr>\n",
              "      <th>2540</th>\n",
              "      <td>2019-09-21</td>\n",
              "      <td>187.619427</td>\n",
              "      <td>122.0</td>\n",
              "      <td>14.0</td>\n",
              "      <td>17.0</td>\n",
              "      <td>6.0</td>\n",
              "      <td>7.000000</td>\n",
              "      <td>222.0</td>\n",
              "    </tr>\n",
              "  </tbody>\n",
              "</table>\n",
              "</div>"
            ],
            "text/plain": [
              "                  date        pm25   pm10    o3   no2   so2         co    AQI\n",
              "Unnamed: 0                                                                   \n",
              "2536        2024-09-20  187.619427  183.0  27.0  45.0   2.0  22.000000  283.0\n",
              "2537        2020-09-01  187.619427   59.0   6.0  16.0  12.0  10.000000  159.0\n",
              "2538        2020-09-06  187.619427   91.0   7.0  22.0  10.0  12.784677  191.0\n",
              "2539        2019-09-15  187.619427  158.0  13.0  25.0   4.0  10.000000  258.0\n",
              "2540        2019-09-21  187.619427  122.0  14.0  17.0   6.0   7.000000  222.0"
            ]
          },
          "execution_count": 18,
          "metadata": {},
          "output_type": "execute_result"
        }
      ],
      "source": [
        "delhi_aqi_data.tail()"
      ]
    },
    {
      "cell_type": "code",
      "execution_count": 19,
      "metadata": {
        "colab": {
          "base_uri": "https://localhost:8080/"
        },
        "id": "iplsZ__By-P4",
        "outputId": "238127fb-513f-410d-de26-78ff5953c16b"
      },
      "outputs": [
        {
          "data": {
            "text/plain": [
              "date    0\n",
              "pm25    0\n",
              "pm10    0\n",
              "o3      0\n",
              "no2     0\n",
              "so2     0\n",
              "co      0\n",
              "AQI     0\n",
              "dtype: int64"
            ]
          },
          "execution_count": 19,
          "metadata": {},
          "output_type": "execute_result"
        }
      ],
      "source": [
        "delhi_aqi_data.isnull().sum()"
      ]
    },
    {
      "cell_type": "code",
      "execution_count": 20,
      "metadata": {
        "id": "_Alsbf0Wztyt"
      },
      "outputs": [],
      "source": [
        "#delhi_aqi_file = pd.concat([delhi_aqi_file.iloc[[-1]],delhi_aqi_file.iloc[:-1]]).reset_index(drop=True)"
      ]
    },
    {
      "cell_type": "code",
      "execution_count": 21,
      "metadata": {
        "colab": {
          "base_uri": "https://localhost:8080/"
        },
        "id": "GBU6jpHD4_NN",
        "outputId": "7b12509f-6f40-4f90-dbb4-8056c8da8296"
      },
      "outputs": [
        {
          "data": {
            "text/html": [
              "<div>\n",
              "<style scoped>\n",
              "    .dataframe tbody tr th:only-of-type {\n",
              "        vertical-align: middle;\n",
              "    }\n",
              "\n",
              "    .dataframe tbody tr th {\n",
              "        vertical-align: top;\n",
              "    }\n",
              "\n",
              "    .dataframe thead th {\n",
              "        text-align: right;\n",
              "    }\n",
              "</style>\n",
              "<table border=\"1\" class=\"dataframe\">\n",
              "  <thead>\n",
              "    <tr style=\"text-align: right;\">\n",
              "      <th></th>\n",
              "      <th>date</th>\n",
              "      <th>pm25</th>\n",
              "      <th>pm10</th>\n",
              "      <th>o3</th>\n",
              "      <th>no2</th>\n",
              "      <th>so2</th>\n",
              "      <th>co</th>\n",
              "      <th>AQI</th>\n",
              "    </tr>\n",
              "    <tr>\n",
              "      <th>Unnamed: 0</th>\n",
              "      <th></th>\n",
              "      <th></th>\n",
              "      <th></th>\n",
              "      <th></th>\n",
              "      <th></th>\n",
              "      <th></th>\n",
              "      <th></th>\n",
              "      <th></th>\n",
              "    </tr>\n",
              "  </thead>\n",
              "  <tbody>\n",
              "    <tr>\n",
              "      <th>0</th>\n",
              "      <td>2024-10-01</td>\n",
              "      <td>153.0</td>\n",
              "      <td>151.0</td>\n",
              "      <td>30.0</td>\n",
              "      <td>22.0</td>\n",
              "      <td>1.0</td>\n",
              "      <td>14.0</td>\n",
              "      <td>256.753754</td>\n",
              "    </tr>\n",
              "    <tr>\n",
              "      <th>1</th>\n",
              "      <td>2024-10-02</td>\n",
              "      <td>160.0</td>\n",
              "      <td>161.0</td>\n",
              "      <td>35.0</td>\n",
              "      <td>22.0</td>\n",
              "      <td>3.0</td>\n",
              "      <td>13.0</td>\n",
              "      <td>274.264264</td>\n",
              "    </tr>\n",
              "    <tr>\n",
              "      <th>2</th>\n",
              "      <td>2024-10-03</td>\n",
              "      <td>198.0</td>\n",
              "      <td>158.0</td>\n",
              "      <td>31.0</td>\n",
              "      <td>20.0</td>\n",
              "      <td>3.0</td>\n",
              "      <td>13.0</td>\n",
              "      <td>369.321321</td>\n",
              "    </tr>\n",
              "    <tr>\n",
              "      <th>3</th>\n",
              "      <td>2024-10-04</td>\n",
              "      <td>141.0</td>\n",
              "      <td>129.0</td>\n",
              "      <td>32.0</td>\n",
              "      <td>17.0</td>\n",
              "      <td>2.0</td>\n",
              "      <td>11.0</td>\n",
              "      <td>240.504742</td>\n",
              "    </tr>\n",
              "    <tr>\n",
              "      <th>4</th>\n",
              "      <td>2024-10-05</td>\n",
              "      <td>112.0</td>\n",
              "      <td>127.0</td>\n",
              "      <td>28.0</td>\n",
              "      <td>14.0</td>\n",
              "      <td>3.0</td>\n",
              "      <td>8.0</td>\n",
              "      <td>227.000000</td>\n",
              "    </tr>\n",
              "  </tbody>\n",
              "</table>\n",
              "</div>"
            ],
            "text/plain": [
              "                  date   pm25   pm10    o3   no2  so2    co         AQI\n",
              "Unnamed: 0                                                             \n",
              "0           2024-10-01  153.0  151.0  30.0  22.0  1.0  14.0  256.753754\n",
              "1           2024-10-02  160.0  161.0  35.0  22.0  3.0  13.0  274.264264\n",
              "2           2024-10-03  198.0  158.0  31.0  20.0  3.0  13.0  369.321321\n",
              "3           2024-10-04  141.0  129.0  32.0  17.0  2.0  11.0  240.504742\n",
              "4           2024-10-05  112.0  127.0  28.0  14.0  3.0   8.0  227.000000"
            ]
          },
          "execution_count": 21,
          "metadata": {},
          "output_type": "execute_result"
        }
      ],
      "source": [
        "delhi_aqi_data.head()"
      ]
    },
    {
      "cell_type": "code",
      "execution_count": 22,
      "metadata": {
        "colab": {
          "base_uri": "https://localhost:8080/"
        },
        "id": "wFMTCOIn5FEl",
        "outputId": "b308ac76-04c0-4dd3-c462-2a09daa640a5"
      },
      "outputs": [
        {
          "data": {
            "text/html": [
              "<div>\n",
              "<style scoped>\n",
              "    .dataframe tbody tr th:only-of-type {\n",
              "        vertical-align: middle;\n",
              "    }\n",
              "\n",
              "    .dataframe tbody tr th {\n",
              "        vertical-align: top;\n",
              "    }\n",
              "\n",
              "    .dataframe thead th {\n",
              "        text-align: right;\n",
              "    }\n",
              "</style>\n",
              "<table border=\"1\" class=\"dataframe\">\n",
              "  <thead>\n",
              "    <tr style=\"text-align: right;\">\n",
              "      <th></th>\n",
              "      <th>date</th>\n",
              "      <th>pm25</th>\n",
              "      <th>pm10</th>\n",
              "      <th>o3</th>\n",
              "      <th>no2</th>\n",
              "      <th>so2</th>\n",
              "      <th>co</th>\n",
              "      <th>AQI</th>\n",
              "    </tr>\n",
              "    <tr>\n",
              "      <th>Unnamed: 0</th>\n",
              "      <th></th>\n",
              "      <th></th>\n",
              "      <th></th>\n",
              "      <th></th>\n",
              "      <th></th>\n",
              "      <th></th>\n",
              "      <th></th>\n",
              "      <th></th>\n",
              "    </tr>\n",
              "  </thead>\n",
              "  <tbody>\n",
              "    <tr>\n",
              "      <th>2536</th>\n",
              "      <td>2024-09-20</td>\n",
              "      <td>187.619427</td>\n",
              "      <td>183.0</td>\n",
              "      <td>27.0</td>\n",
              "      <td>45.0</td>\n",
              "      <td>2.0</td>\n",
              "      <td>22.000000</td>\n",
              "      <td>283.0</td>\n",
              "    </tr>\n",
              "    <tr>\n",
              "      <th>2537</th>\n",
              "      <td>2020-09-01</td>\n",
              "      <td>187.619427</td>\n",
              "      <td>59.0</td>\n",
              "      <td>6.0</td>\n",
              "      <td>16.0</td>\n",
              "      <td>12.0</td>\n",
              "      <td>10.000000</td>\n",
              "      <td>159.0</td>\n",
              "    </tr>\n",
              "    <tr>\n",
              "      <th>2538</th>\n",
              "      <td>2020-09-06</td>\n",
              "      <td>187.619427</td>\n",
              "      <td>91.0</td>\n",
              "      <td>7.0</td>\n",
              "      <td>22.0</td>\n",
              "      <td>10.0</td>\n",
              "      <td>12.784677</td>\n",
              "      <td>191.0</td>\n",
              "    </tr>\n",
              "    <tr>\n",
              "      <th>2539</th>\n",
              "      <td>2019-09-15</td>\n",
              "      <td>187.619427</td>\n",
              "      <td>158.0</td>\n",
              "      <td>13.0</td>\n",
              "      <td>25.0</td>\n",
              "      <td>4.0</td>\n",
              "      <td>10.000000</td>\n",
              "      <td>258.0</td>\n",
              "    </tr>\n",
              "    <tr>\n",
              "      <th>2540</th>\n",
              "      <td>2019-09-21</td>\n",
              "      <td>187.619427</td>\n",
              "      <td>122.0</td>\n",
              "      <td>14.0</td>\n",
              "      <td>17.0</td>\n",
              "      <td>6.0</td>\n",
              "      <td>7.000000</td>\n",
              "      <td>222.0</td>\n",
              "    </tr>\n",
              "  </tbody>\n",
              "</table>\n",
              "</div>"
            ],
            "text/plain": [
              "                  date        pm25   pm10    o3   no2   so2         co    AQI\n",
              "Unnamed: 0                                                                   \n",
              "2536        2024-09-20  187.619427  183.0  27.0  45.0   2.0  22.000000  283.0\n",
              "2537        2020-09-01  187.619427   59.0   6.0  16.0  12.0  10.000000  159.0\n",
              "2538        2020-09-06  187.619427   91.0   7.0  22.0  10.0  12.784677  191.0\n",
              "2539        2019-09-15  187.619427  158.0  13.0  25.0   4.0  10.000000  258.0\n",
              "2540        2019-09-21  187.619427  122.0  14.0  17.0   6.0   7.000000  222.0"
            ]
          },
          "execution_count": 22,
          "metadata": {},
          "output_type": "execute_result"
        }
      ],
      "source": [
        "delhi_aqi_data.tail()"
      ]
    },
    {
      "cell_type": "markdown",
      "metadata": {
        "id": "1V1xHSogwX_s"
      },
      "source": [
        "# ***Define Features and Target***"
      ]
    },
    {
      "cell_type": "code",
      "execution_count": null,
      "metadata": {},
      "outputs": [],
      "source": [
        "# Extract month from date column\n",
        "delhi_aqi_data['date'] = pd.to_datetime(delhi_aqi_data['date'])\n",
        "delhi_aqi_data['month'] = delhi_aqi_data['date'].dt.month\n"
      ]
    },
    {
      "cell_type": "code",
      "execution_count": 23,
      "metadata": {
        "id": "eTaL8ZZGwPc-"
      },
      "outputs": [],
      "source": [
        "features = ['o3','pm25','pm10','no2','so2','co']\n",
        "Y = delhi_aqi_data.AQI"
      ]
    },
    {
      "cell_type": "code",
      "execution_count": 24,
      "metadata": {
        "id": "2072I0eB0K3S"
      },
      "outputs": [],
      "source": [
        "X = delhi_aqi_data[features]"
      ]
    },
    {
      "cell_type": "code",
      "execution_count": 25,
      "metadata": {
        "colab": {
          "base_uri": "https://localhost:8080/",
          "height": 237
        },
        "id": "4r-BuQpL1ilr",
        "outputId": "12e10ae7-90de-4f23-af65-7d6ea76dee02"
      },
      "outputs": [
        {
          "data": {
            "text/html": [
              "<div>\n",
              "<style scoped>\n",
              "    .dataframe tbody tr th:only-of-type {\n",
              "        vertical-align: middle;\n",
              "    }\n",
              "\n",
              "    .dataframe tbody tr th {\n",
              "        vertical-align: top;\n",
              "    }\n",
              "\n",
              "    .dataframe thead th {\n",
              "        text-align: right;\n",
              "    }\n",
              "</style>\n",
              "<table border=\"1\" class=\"dataframe\">\n",
              "  <thead>\n",
              "    <tr style=\"text-align: right;\">\n",
              "      <th></th>\n",
              "      <th>o3</th>\n",
              "      <th>pm25</th>\n",
              "      <th>pm10</th>\n",
              "      <th>no2</th>\n",
              "      <th>so2</th>\n",
              "      <th>co</th>\n",
              "    </tr>\n",
              "    <tr>\n",
              "      <th>Unnamed: 0</th>\n",
              "      <th></th>\n",
              "      <th></th>\n",
              "      <th></th>\n",
              "      <th></th>\n",
              "      <th></th>\n",
              "      <th></th>\n",
              "    </tr>\n",
              "  </thead>\n",
              "  <tbody>\n",
              "    <tr>\n",
              "      <th>0</th>\n",
              "      <td>30.0</td>\n",
              "      <td>153.0</td>\n",
              "      <td>151.0</td>\n",
              "      <td>22.0</td>\n",
              "      <td>1.0</td>\n",
              "      <td>14.0</td>\n",
              "    </tr>\n",
              "    <tr>\n",
              "      <th>1</th>\n",
              "      <td>35.0</td>\n",
              "      <td>160.0</td>\n",
              "      <td>161.0</td>\n",
              "      <td>22.0</td>\n",
              "      <td>3.0</td>\n",
              "      <td>13.0</td>\n",
              "    </tr>\n",
              "    <tr>\n",
              "      <th>2</th>\n",
              "      <td>31.0</td>\n",
              "      <td>198.0</td>\n",
              "      <td>158.0</td>\n",
              "      <td>20.0</td>\n",
              "      <td>3.0</td>\n",
              "      <td>13.0</td>\n",
              "    </tr>\n",
              "    <tr>\n",
              "      <th>3</th>\n",
              "      <td>32.0</td>\n",
              "      <td>141.0</td>\n",
              "      <td>129.0</td>\n",
              "      <td>17.0</td>\n",
              "      <td>2.0</td>\n",
              "      <td>11.0</td>\n",
              "    </tr>\n",
              "    <tr>\n",
              "      <th>4</th>\n",
              "      <td>28.0</td>\n",
              "      <td>112.0</td>\n",
              "      <td>127.0</td>\n",
              "      <td>14.0</td>\n",
              "      <td>3.0</td>\n",
              "      <td>8.0</td>\n",
              "    </tr>\n",
              "  </tbody>\n",
              "</table>\n",
              "</div>"
            ],
            "text/plain": [
              "              o3   pm25   pm10   no2  so2    co\n",
              "Unnamed: 0                                     \n",
              "0           30.0  153.0  151.0  22.0  1.0  14.0\n",
              "1           35.0  160.0  161.0  22.0  3.0  13.0\n",
              "2           31.0  198.0  158.0  20.0  3.0  13.0\n",
              "3           32.0  141.0  129.0  17.0  2.0  11.0\n",
              "4           28.0  112.0  127.0  14.0  3.0   8.0"
            ]
          },
          "execution_count": 25,
          "metadata": {},
          "output_type": "execute_result"
        }
      ],
      "source": [
        "X.head()"
      ]
    },
    {
      "cell_type": "markdown",
      "metadata": {
        "id": "UXtmgGGh2VmP"
      },
      "source": [
        "Splitting the data into training and valuation data kudos"
      ]
    },
    {
      "cell_type": "code",
      "execution_count": null,
      "metadata": {
        "id": "3Dd-CjZ71w1r"
      },
      "outputs": [],
      "source": [
        "from sklearn.model_selection import train_test_split"
      ]
    },
    {
      "cell_type": "code",
      "execution_count": 27,
      "metadata": {
        "id": "hOCMvoY22TZn"
      },
      "outputs": [],
      "source": [
        "train_X, val_X, train_Y, val_Y = train_test_split(X,Y,test_size=0.2, random_state=42)"
      ]
    },
    {
      "cell_type": "markdown",
      "metadata": {
        "id": "hFoplk4c3V85"
      },
      "source": [
        "# Training the model"
      ]
    },
    {
      "cell_type": "code",
      "execution_count": 28,
      "metadata": {
        "id": "5dWfKDBw3NCC"
      },
      "outputs": [],
      "source": [
        "from sklearn.ensemble import RandomForestRegressor"
      ]
    },
    {
      "cell_type": "code",
      "execution_count": 29,
      "metadata": {
        "colab": {
          "base_uri": "https://localhost:8080/"
        },
        "id": "4aLfyfaA3eel",
        "outputId": "1b43b39a-ef0c-4cc4-9c7e-c0509177223d"
      },
      "outputs": [
        {
          "data": {
            "text/plain": [
              "RandomForestRegressor(random_state=42)"
            ]
          },
          "execution_count": 29,
          "metadata": {},
          "output_type": "execute_result"
        }
      ],
      "source": [
        "forest_model = RandomForestRegressor(n_estimators=100, random_state=42)\n",
        "forest_model.fit(train_X,train_Y)"
      ]
    },
    {
      "cell_type": "code",
      "execution_count": 30,
      "metadata": {
        "id": "yjeZmNQ63wis"
      },
      "outputs": [],
      "source": [
        "y_pred = forest_model.predict(val_X)"
      ]
    },
    {
      "cell_type": "markdown",
      "metadata": {
        "id": "m-W1M-hC4SPR"
      },
      "source": [
        "# Evaluating the model performance"
      ]
    },
    {
      "cell_type": "code",
      "execution_count": 31,
      "metadata": {
        "id": "FHM_-vqR4Hol"
      },
      "outputs": [],
      "source": [
        "from sklearn.metrics import mean_absolute_error\n",
        "from sklearn.metrics import mean_squared_error\n",
        "from sklearn.metrics import r2_score"
      ]
    },
    {
      "cell_type": "code",
      "execution_count": 32,
      "metadata": {
        "id": "cT_82IO04WL9"
      },
      "outputs": [],
      "source": [
        "# mae = mean_absolute_error(val_Y,y_pred)\n",
        "# print(mae)"
      ]
    },
    {
      "cell_type": "code",
      "execution_count": 33,
      "metadata": {
        "id": "TdjYjuLw4_9z"
      },
      "outputs": [],
      "source": [
        "mse = mean_squared_error(val_Y,y_pred)\n",
        "r2 = r2_score(val_Y,y_pred)"
      ]
    },
    {
      "cell_type": "code",
      "execution_count": 34,
      "metadata": {
        "colab": {
          "base_uri": "https://localhost:8080/"
        },
        "id": "eaSRgweC51dB",
        "outputId": "44af6c6b-b08c-40c2-d5c0-9728655fc9b4"
      },
      "outputs": [
        {
          "name": "stdout",
          "output_type": "stream",
          "text": [
            "\n",
            "Initial Model Performance:\n",
            "Mean Squared Error: 100.06\n",
            "R² Score: 0.99\n"
          ]
        }
      ],
      "source": [
        "print(\"\\nInitial Model Performance:\")\n",
        "print(f\"Mean Squared Error: {mse:.2f}\")\n",
        "print(f\"R² Score: {r2:.2f}\")"
      ]
    },
    {
      "cell_type": "markdown",
      "metadata": {
        "id": "QeAM5-tO9elM"
      },
      "source": [
        "# Grid"
      ]
    },
    {
      "cell_type": "code",
      "execution_count": 35,
      "metadata": {
        "id": "91goxL-v58CF"
      },
      "outputs": [],
      "source": [
        "param_grid = {\n",
        "    'n_estimators': [50, 100, 200],\n",
        "    'max_depth': [None, 5, 10, 20],\n",
        "    'min_samples_split': [2, 5, 10]\n",
        "}"
      ]
    },
    {
      "cell_type": "code",
      "execution_count": 36,
      "metadata": {
        "id": "x9bZFnAo6P5B"
      },
      "outputs": [],
      "source": [
        "from sklearn.model_selection import GridSearchCV"
      ]
    },
    {
      "cell_type": "code",
      "execution_count": 37,
      "metadata": {
        "id": "SaxQb5m76IBR"
      },
      "outputs": [],
      "source": [
        "grid_search = GridSearchCV(estimator=forest_model,\n",
        "                           param_grid=param_grid,\n",
        "                           cv=5,\n",
        "                           n_jobs=-1,\n",
        "                           scoring='neg_mean_squared_error')"
      ]
    },
    {
      "cell_type": "code",
      "execution_count": 38,
      "metadata": {
        "colab": {
          "base_uri": "https://localhost:8080/",
          "height": 164
        },
        "id": "xkiE2SAr6tD0",
        "outputId": "aa1f41e6-8ee5-4f01-9f19-a6bae4d16372"
      },
      "outputs": [
        {
          "data": {
            "text/plain": [
              "GridSearchCV(cv=5, estimator=RandomForestRegressor(random_state=42), n_jobs=-1,\n",
              "             param_grid={'max_depth': [None, 5, 10, 20],\n",
              "                         'min_samples_split': [2, 5, 10],\n",
              "                         'n_estimators': [50, 100, 200]},\n",
              "             scoring='neg_mean_squared_error')"
            ]
          },
          "execution_count": 38,
          "metadata": {},
          "output_type": "execute_result"
        }
      ],
      "source": [
        "grid_search.fit(train_X, train_Y)"
      ]
    },
    {
      "cell_type": "code",
      "execution_count": 39,
      "metadata": {
        "colab": {
          "base_uri": "https://localhost:8080/"
        },
        "id": "bcBZLdqD7hSQ",
        "outputId": "99530f54-4efb-4eda-b6ae-52e3b6484fc5"
      },
      "outputs": [
        {
          "name": "stdout",
          "output_type": "stream",
          "text": [
            "\n",
            "Best Hyperparameters Found:\n",
            "{'max_depth': None, 'min_samples_split': 5, 'n_estimators': 50}\n"
          ]
        }
      ],
      "source": [
        "print(\"\\nBest Hyperparameters Found:\")\n",
        "print(grid_search.best_params_)"
      ]
    },
    {
      "cell_type": "code",
      "execution_count": 40,
      "metadata": {
        "id": "5h9kpXnf8vbE"
      },
      "outputs": [],
      "source": [
        "best_rf = grid_search.best_estimator_\n",
        "y_pred_best = best_rf.predict(val_X)\n",
        "mse_best = mean_squared_error(val_Y, y_pred_best)\n",
        "r2_best = r2_score(val_Y, y_pred_best)"
      ]
    },
    {
      "cell_type": "code",
      "execution_count": 41,
      "metadata": {
        "colab": {
          "base_uri": "https://localhost:8080/"
        },
        "id": "f6cHRP58-QCo",
        "outputId": "5b669b39-612a-4ebc-d834-a17b4261b932"
      },
      "outputs": [
        {
          "name": "stdout",
          "output_type": "stream",
          "text": [
            "\n",
            "Tuned Model Performance:\n",
            "Mean Squared Error: 94.18\n",
            "R² Score: 0.99\n"
          ]
        }
      ],
      "source": [
        "print(\"\\nTuned Model Performance:\")\n",
        "print(f\"Mean Squared Error: {mse_best:.2f}\")\n",
        "print(f\"R² Score: {r2_best:.2f}\")"
      ]
    },
    {
      "cell_type": "markdown",
      "metadata": {
        "id": "qJXShZQa-biq"
      },
      "source": [
        "Visualizing the results i.e. actual v/s predicted"
      ]
    },
    {
      "cell_type": "code",
      "execution_count": 42,
      "metadata": {
        "id": "87YURYjb-jhs"
      },
      "outputs": [],
      "source": [
        "import matplotlib.pyplot as plt"
      ]
    },
    {
      "cell_type": "code",
      "execution_count": 43,
      "metadata": {
        "colab": {
          "base_uri": "https://localhost:8080/",
          "height": 564
        },
        "id": "O8bl_pYg-awo",
        "outputId": "f199f213-6d1f-4861-94d4-70fdea2fd92c"
      },
      "outputs": [
        {
          "data": {
            "image/png": "[encoded data removed]",
            "text/plain": [
              "<Figure size 800x600 with 1 Axes>"
            ]
          },
          "metadata": {},
          "output_type": "display_data"
        }
      ],
      "source": [
        "plt.figure(figsize=(8, 6))\n",
        "plt.scatter(val_Y, y_pred_best, alpha=0.7, edgecolors='k')\n",
        "plt.xlabel(\"Actual AQI\")\n",
        "plt.ylabel(\"Predicted AQI\")\n",
        "plt.title(\"Actual vs. Predicted AQI\")\n",
        "# Plot a reference line where predicted equals actual\n",
        "plt.plot([val_Y.min(), val_Y.max()], [val_Y.min(), val_Y.max()], 'r--', lw=2)\n",
        "plt.show()"
      ]
    },
    {
      "cell_type": "code",
      "execution_count": 44,
      "metadata": {},
      "outputs": [],
      "source": [
        "import pickle\n",
        "\n",
        "# Save the trained model using the correct variable name\n",
        "with open(\"rf_model.pkl\", \"wb\") as f:\n",
        "    pickle.dump(forest_model, f)\n"
      ]
    }
  ],
  "metadata": {
    "colab": {
      "provenance": []
    },
    "kernelspec": {
      "display_name": "base",
      "language": "python",
      "name": "python3"
    },
    "language_info": {
      "codemirror_mode": {
        "name": "ipython",
        "version": 3
      },
      "file_extension": ".py",
      "mimetype": "text/x-python",
      "name": "python",
      "nbconvert_exporter": "python",
      "pygments_lexer": "ipython3",
      "version": "3.9.13"
    }
  },
  "nbformat": 4,
  "nbformat_minor": 0
}
